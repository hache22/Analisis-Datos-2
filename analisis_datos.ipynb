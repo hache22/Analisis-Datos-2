{
  "nbformat": 4,
  "nbformat_minor": 0,
  "metadata": {
    "colab": {
      "provenance": [],
      "authorship_tag": "ABX9TyMq9bMRvBr+1Lvqu1Ogmj/F",
      "include_colab_link": true
    },
    "kernelspec": {
      "name": "python3",
      "display_name": "Python 3"
    },
    "language_info": {
      "name": "python"
    }
  },
  "cells": [
    {
      "cell_type": "markdown",
      "metadata": {
        "id": "view-in-github",
        "colab_type": "text"
      },
      "source": [
        "<a href=\"https://colab.research.google.com/github/hache22/Analisis-Datos-2/blob/main/analisis_datos.ipynb\" target=\"_parent\"><img src=\"https://colab.research.google.com/assets/colab-badge.svg\" alt=\"Open In Colab\"/></a>"
      ]
    },
    {
      "cell_type": "code",
      "execution_count": null,
      "metadata": {
        "id": "Zb9_ztHxx42C"
      },
      "outputs": [],
      "source": [
        "!pip install seaborn\n",
        "!pip install matplotlib.pyplot\n",
        "!pip install numpy\n",
        "!pip install pandas\n",
        "!pip install pandas_profiling\n",
        "\n",
        "import numpy as np\n",
        "import pandas as pd\n",
        "import pandas_profiling\n",
        "import matplotlib.pyplot as plt\n",
        "import seaborn as sns"
      ]
    },
    {
      "cell_type": "code",
      "source": [
        "# lectura de csv\n",
        "data = pd.read_csv('data.csv')"
      ],
      "metadata": {
        "id": "jOqivZ7ZxYPy"
      },
      "execution_count": null,
      "outputs": []
    },
    {
      "cell_type": "code",
      "source": [
        "# Limpieza de datos\n",
        "data.drop_duplicates(inplace=True)\n",
        "data.dropna(inplace=True)\n",
        "data.dropna(subset=['column_name'], inplace=True)\n",
        "data = data[data['column_name'].astype(str).str.isdigit()]"
      ],
      "metadata": {
        "id": "lEyUMVDkxbw_"
      },
      "execution_count": null,
      "outputs": []
    },
    {
      "cell_type": "code",
      "source": [
        "# Graficar grafico de barras\n",
        "plt.figure(figsize=(10, 6))\n",
        "sns.countplot(x='column_name', data=data)\n",
        "plt.title('Bar Graph')\n",
        "plt.xlabel('X-axis')\n",
        "plt.ylabel('Y-axis')\n",
        "plt.show()"
      ],
      "metadata": {
        "id": "dujEjs0oxfg_"
      },
      "execution_count": null,
      "outputs": []
    },
    {
      "cell_type": "code",
      "source": [
        "# graficar en  scatter plots\n",
        "plt.figure(figsize=(10, 6))\n",
        "sns.scatterplot(x='column_name1', y='column_name2', data=data)\n",
        "plt.title('Scatter Plot')\n",
        "plt.xlabel('X-axis')\n",
        "plt.ylabel('Y-axis')\n",
        "plt.show()"
      ],
      "metadata": {
        "id": "233IoIx4xi9g"
      },
      "execution_count": null,
      "outputs": []
    },
    {
      "cell_type": "code",
      "source": [
        "# graficar en  box plots\n",
        "plt.figure(figsize=(10, 6))\n",
        "sns.boxplot(x='column_name', y='column_name2', data=data)\n",
        "plt.title('Box Plot')\n",
        "plt.xlabel('X-axis')\n",
        "plt.ylabel('Y-axis')\n",
        "plt.show()"
      ],
      "metadata": {
        "id": "jTlRuH28xqPd"
      },
      "execution_count": null,
      "outputs": []
    },
    {
      "cell_type": "code",
      "source": [
        "# Pandas Profiling\n",
        "profile = pandas_profiling.ProfileReport(data)\n",
        "profile.to_file('data_profile.html')"
      ],
      "metadata": {
        "id": "Jy2s632_xphD"
      },
      "execution_count": null,
      "outputs": []
    }
  ]
}